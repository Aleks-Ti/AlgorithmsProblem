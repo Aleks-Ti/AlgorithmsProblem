{
 "cells": [
  {
   "cell_type": "code",
   "execution_count": 24,
   "metadata": {},
   "outputs": [
    {
     "name": "stdout",
     "output_type": "stream",
     "text": [
      "1011111\n"
     ]
    }
   ],
   "source": [
    "number_1 = str(input())\n",
    "number_2 = str(input())\n",
    "\n",
    "\n",
    "def sum_binary(number_1, number_2):\n",
    "    residue = 0\n",
    "    result = []\n",
    "    \n",
    "    if len(number_1) > len(number_2):\n",
    "        number_2 = number_2 + '0' * (len(number_1) - len(number_2))\n",
    "    if len(number_1) < len(number_2):\n",
    "        number_1 = number_1 + '0' * (len(number_2) - len(number_1))\n",
    "\n",
    "    for index in range(len(number_1) - 1, -1, -1):\n",
    "        if residue == 0:\n",
    "            sum_num = int(number_1[index]) + int(number_2[index])\n",
    "            if sum_num < 2:\n",
    "                residue = 0\n",
    "                result.append(str(sum_num))\n",
    "            else:\n",
    "                residue = 1\n",
    "                result.append(str(sum_num - 2))\n",
    "        else:\n",
    "            sum_num = int(number_1[index]) + int(number_2[index]) + residue\n",
    "            if sum_num < 2:\n",
    "                residue = 0\n",
    "                result.append(str(sum_num))\n",
    "            elif sum_num > 2:\n",
    "                residue = 2\n",
    "                result.append(str(sum_num - 3))\n",
    "            else:\n",
    "                residue = 1\n",
    "                result.append(str(sum_num - 2))\n",
    "\n",
    "    if residue == 2:\n",
    "        result.append('1')\n",
    "        result.append('1')\n",
    "    if residue == 1:\n",
    "        result.append('1')\n",
    "\n",
    "    return ''.join((result[::-1]))\n",
    "\n",
    "\n",
    "print(sum_binary(number_1, number_2))\n",
    "\n",
    "\n",
    "\n",
    "\n",
    "\n",
    "\n",
    "\n"
   ]
  },
  {
   "cell_type": "code",
   "execution_count": 26,
   "metadata": {},
   "outputs": [
    {
     "name": "stdout",
     "output_type": "stream",
     "text": [
      "Sum of two binary numbers: 10101\n"
     ]
    }
   ],
   "source": [
    "number_1 = str(input())\n",
    "number_2 = str(input())\n",
    "\n",
    "def sum_binary(num1, num2):\n",
    "    num1_list = [int(x) for x in num1]\n",
    "    num2_list = [int(x) for x in num2]\n",
    "\n",
    "    max_len = max(len(num1_list), len(num2_list))\n",
    "\n",
    "    while len(num1_list) < max_len:\n",
    "        num1_list.insert(0, 0)\n",
    "\n",
    "    while len(num2_list) < max_len:\n",
    "        num2_list.insert(0, 0)\n",
    "\n",
    "    num1_list.reverse()\n",
    "    num2_list.reverse()\n",
    "\n",
    "    result = []\n",
    "\n",
    "    residue = 0\n",
    "\n",
    "    for i in range(max_len):\n",
    "        sum = residue + num1_list[i] + num2_list[i]\n",
    "\n",
    "        if sum == 0 or sum == 1:\n",
    "            result.append(str(sum))\n",
    "            residue = 0\n",
    "\n",
    "        elif sum == 2:\n",
    "            result.append('0')\n",
    "            residue = 1\n",
    "\n",
    "        elif sum == 3:\n",
    "            result.append('1')\n",
    "            residue = 1\n",
    "\n",
    "    if residue == 1:\n",
    "        result.append('1')\n",
    "  \n",
    "    result.reverse()\n",
    "\n",
    "    return ''.join(result)  \n",
    "\n",
    "\n",
    "print(sum_binary(number_1, number_2))"
   ]
  }
 ],
 "metadata": {
  "kernelspec": {
   "display_name": "Python 3",
   "language": "python",
   "name": "python3"
  },
  "language_info": {
   "codemirror_mode": {
    "name": "ipython",
    "version": 3
   },
   "file_extension": ".py",
   "mimetype": "text/x-python",
   "name": "python",
   "nbconvert_exporter": "python",
   "pygments_lexer": "ipython3",
   "version": "3.10.7"
  },
  "orig_nbformat": 4
 },
 "nbformat": 4,
 "nbformat_minor": 2
}
