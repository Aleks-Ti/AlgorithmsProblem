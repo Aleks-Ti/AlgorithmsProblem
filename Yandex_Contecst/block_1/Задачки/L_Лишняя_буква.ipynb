{
 "cells": [
  {
   "cell_type": "code",
   "execution_count": null,
   "metadata": {},
   "outputs": [],
   "source": [
    "original_word = str(input())\n",
    "mixed_word = str(input())\n",
    "\n",
    "\n",
    "for letter in mixed_word:\n",
    "    if original_word.count(letter) != mixed_word.count(letter):\n",
    "        print(letter)\n",
    "\n",
    "\n",
    "\n",
    "\n",
    "\n",
    "\n",
    "\n",
    "\n",
    "\n",
    "\n",
    "\n",
    "\n"
   ]
  }
 ],
 "metadata": {
  "language_info": {
   "name": "python"
  },
  "orig_nbformat": 4
 },
 "nbformat": 4,
 "nbformat_minor": 2
}
