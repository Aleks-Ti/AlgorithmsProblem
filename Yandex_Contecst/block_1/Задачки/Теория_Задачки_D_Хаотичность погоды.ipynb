{
 "cells": [
  {
   "cell_type": "code",
   "execution_count": 6,
   "metadata": {},
   "outputs": [
    {
     "name": "stdout",
     "output_type": "stream",
     "text": [
      "1\n"
     ]
    }
   ],
   "source": [
    "number_of_days = int(input())\n",
    "temp_in_day = list(map(int, input().split()))\n",
    "\n",
    "result = 0\n",
    "if number_of_days == 1:\n",
    "    print(1)\n",
    "else:\n",
    "    for day in range(len(temp_in_day)):\n",
    "        if day != 0 and day != number_of_days - 1:\n",
    "            if temp_in_day[day - 1] < temp_in_day[day] > temp_in_day[day + 1]:\n",
    "                result += 1\n",
    "        elif day == 0:\n",
    "            if temp_in_day[day] > temp_in_day[day + 1]:\n",
    "                result += 1\n",
    "        elif day == number_of_days - 1:\n",
    "            if temp_in_day[day] > temp_in_day[day - 1]:\n",
    "                result += 1\n",
    "\n",
    "    print(result)\n",
    "\n"
   ]
  }
 ],
 "metadata": {
  "kernelspec": {
   "display_name": "Python 3",
   "language": "python",
   "name": "python3"
  },
  "language_info": {
   "codemirror_mode": {
    "name": "ipython",
    "version": 3
   },
   "file_extension": ".py",
   "mimetype": "text/x-python",
   "name": "python",
   "nbconvert_exporter": "python",
   "pygments_lexer": "ipython3",
   "version": "3.10.7"
  },
  "orig_nbformat": 4
 },
 "nbformat": 4,
 "nbformat_minor": 2
}
