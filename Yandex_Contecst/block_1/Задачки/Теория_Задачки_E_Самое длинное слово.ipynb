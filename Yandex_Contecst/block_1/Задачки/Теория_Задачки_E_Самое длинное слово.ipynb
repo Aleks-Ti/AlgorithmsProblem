{
 "cells": [
  {
   "cell_type": "code",
   "execution_count": null,
   "metadata": {},
   "outputs": [],
   "source": [
    "length_text = int(input())\n",
    "words = list(map(str, input().split()))\n",
    "\n",
    "result = ''\n",
    "for word in words:\n",
    "    if len(word) != len(result):\n",
    "        if len(word) > len(result):\n",
    "            result = word\n",
    "\n",
    "\n",
    "print(result)\n",
    "print(len(result))\n",
    "\n",
    "\n",
    "\n"
   ]
  }
 ],
 "metadata": {
  "kernelspec": {
   "display_name": "Python 3",
   "language": "python",
   "name": "python3"
  },
  "language_info": {
   "codemirror_mode": {
    "name": "ipython",
    "version": 3
   },
   "file_extension": ".py",
   "mimetype": "text/x-python",
   "name": "python",
   "nbconvert_exporter": "python",
   "pygments_lexer": "ipython3",
   "version": "3.10.7"
  },
  "orig_nbformat": 4
 },
 "nbformat": 4,
 "nbformat_minor": 2
}
