{
 "cells": [
  {
   "cell_type": "code",
   "execution_count": 6,
   "metadata": {},
   "outputs": [
    {
     "name": "stdout",
     "output_type": "stream",
     "text": [
      "-9 -2 1\n"
     ]
    }
   ],
   "source": [
    "with open('input.txt', 'r') as f:\n",
    "    lines = f.readlines()\n",
    "    row_all = int(lines[0].rstrip()) - 1\n",
    "    col_all = int(lines[1].rstrip()) - 1\n",
    "    row_point = int(lines[-2].rstrip())\n",
    "    col_point = int(lines[-1].rstrip())\n",
    "    matrix = [x.split(' ') for x in lines[2:-2]]\n",
    "\n",
    "result = []\n",
    "\n",
    "if row_point > 0:\n",
    "    neighbor = (matrix[row_point - 1][col_point])  # вверх\n",
    "    result.append(int(neighbor))\n",
    "if row_point < row_all:\n",
    "    neighbor = (matrix[row_point + 1][col_point])  # вниз\n",
    "    result.append(int(neighbor))\n",
    "if col_point > 0:\n",
    "    neighbor = (matrix[row_point][col_point - 1])  # лево\n",
    "    result.append(int(neighbor))\n",
    "if col_point < col_all:\n",
    "    neighbor = (matrix[row_point][col_point + 1])  # право\n",
    "    result.append(int(neighbor))\n",
    "\n",
    "convert = [str(x) for x in sorted(result)]\n",
    "print((' '.join(convert)))\n",
    "\n",
    "\n",
    "\n",
    "\n"
   ]
  },
  {
   "cell_type": "code",
   "execution_count": 1,
   "metadata": {},
   "outputs": [
    {
     "name": "stdout",
     "output_type": "stream",
     "text": [
      "-9 -2 1\n"
     ]
    }
   ],
   "source": [
    "with open('input.txt', 'r') as f:\n",
    "    lines = f.readlines()\n",
    "    row_all = int(lines[0].rstrip()) - 1\n",
    "    col_all = int(lines[1].rstrip()) - 1\n",
    "    row_point = int(lines[-2].rstrip())\n",
    "    col_point = int(lines[-1].rstrip())\n",
    "    matrix = [x.split(' ') for x in lines[2:-2]]\n",
    "\n",
    "result = []\n",
    "\n",
    "\n",
    "def convert_to_int(asd):\n",
    "    asd = int(asd)\n",
    "    result.append(asd)\n",
    "\n",
    "\n",
    "if row_point > 0:\n",
    "    neighbor = (matrix[row_point - 1][col_point])  # вверх\n",
    "    convert_to_int(neighbor)\n",
    "if row_point <= row_all - 1:\n",
    "    neighbor = (matrix[row_point + 1][col_point])  # вниз\n",
    "    convert_to_int(neighbor)\n",
    "if col_point > 0:\n",
    "    neighbor = (matrix[row_point][col_point - 1])  # лево\n",
    "    convert_to_int(neighbor)\n",
    "if col_point < col_all:\n",
    "    neighbor = (matrix[row_point][col_point + 1])  # право\n",
    "    convert_to_int(neighbor)\n",
    "\n",
    "convert = [str(x) for x in sorted(result)]\n",
    "print((' '.join(convert)))\n",
    "\n"
   ]
  }
 ],
 "metadata": {
  "kernelspec": {
   "display_name": "Python 3",
   "language": "python",
   "name": "python3"
  },
  "language_info": {
   "codemirror_mode": {
    "name": "ipython",
    "version": 3
   },
   "file_extension": ".py",
   "mimetype": "text/x-python",
   "name": "python",
   "nbconvert_exporter": "python",
   "pygments_lexer": "ipython3",
   "version": "3.10.7"
  },
  "orig_nbformat": 4
 },
 "nbformat": 4,
 "nbformat_minor": 2
}
