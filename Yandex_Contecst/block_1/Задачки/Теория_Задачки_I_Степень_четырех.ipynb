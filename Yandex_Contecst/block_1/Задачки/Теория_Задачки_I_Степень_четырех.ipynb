{
 "cells": [
  {
   "cell_type": "code",
   "execution_count": null,
   "metadata": {},
   "outputs": [],
   "source": [
    "number = int(input())\n",
    "\n",
    "if number % 4 == 0:\n",
    "    print (True)\n",
    "else:\n",
    "    print (False)\n"
   ]
  },
  {
   "cell_type": "code",
   "execution_count": null,
   "metadata": {},
   "outputs": [],
   "source": [
    "number = int(input())\n",
    "x = 0\n",
    "while x != number:\n",
    "    for i in range(number // 2):\n",
    "        if i**4 == number:\n",
    "            \n",
    "            print(True)\n",
    "            x = i\n",
    "        \n",
    "    print(False)\n"
   ]
  },
  {
   "cell_type": "code",
   "execution_count": null,
   "metadata": {},
   "outputs": [],
   "source": [
    "# верное решение\n",
    "number = int(input())\n",
    "\n",
    "def grade_of_four(number):\n",
    "    if number == 1:\n",
    "        return True\n",
    "    if number % 4 != 0 or number < 1:\n",
    "        return False\n",
    "    return grade_of_four(number // 4)\n",
    "\n",
    "\n",
    "print(grade_of_four(number))\n"
   ]
  },
  {
   "cell_type": "code",
   "execution_count": null,
   "metadata": {},
   "outputs": [],
   "source": []
  }
 ],
 "metadata": {
  "kernelspec": {
   "display_name": "Python 3",
   "language": "python",
   "name": "python3"
  },
  "language_info": {
   "codemirror_mode": {
    "name": "ipython",
    "version": 3
   },
   "file_extension": ".py",
   "mimetype": "text/x-python",
   "name": "python",
   "nbconvert_exporter": "python",
   "pygments_lexer": "ipython3",
   "version": "3.10.7"
  },
  "orig_nbformat": 4
 },
 "nbformat": 4,
 "nbformat_minor": 2
}
