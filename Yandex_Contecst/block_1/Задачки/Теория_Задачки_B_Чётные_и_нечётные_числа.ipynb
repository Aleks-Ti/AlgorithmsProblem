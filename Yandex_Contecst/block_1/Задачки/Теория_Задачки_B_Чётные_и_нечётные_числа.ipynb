{
 "cells": [
  {
   "cell_type": "code",
   "execution_count": 2,
   "metadata": {},
   "outputs": [
    {
     "name": "stdout",
     "output_type": "stream",
     "text": [
      "WIN\n"
     ]
    }
   ],
   "source": [
    "a, x, b = [int(x) for x in str(input()).split()]\n",
    "\n",
    "if a % 2 == 0 and x % 2 == 0 and b % 2 == 0:\n",
    "    print('WIN')\n",
    "elif a % 2 != 0 and x % 2 != 0 and b % 2 != 0:\n",
    "    print('WIN')\n",
    "else:\n",
    "    print('FAIL')\n",
    "    \n"
   ]
  }
 ],
 "metadata": {
  "kernelspec": {
   "display_name": "Python 3",
   "language": "python",
   "name": "python3"
  },
  "language_info": {
   "codemirror_mode": {
    "name": "ipython",
    "version": 3
   },
   "file_extension": ".py",
   "mimetype": "text/x-python",
   "name": "python",
   "nbconvert_exporter": "python",
   "pygments_lexer": "ipython3",
   "version": "3.10.7"
  },
  "orig_nbformat": 4
 },
 "nbformat": 4,
 "nbformat_minor": 2
}
