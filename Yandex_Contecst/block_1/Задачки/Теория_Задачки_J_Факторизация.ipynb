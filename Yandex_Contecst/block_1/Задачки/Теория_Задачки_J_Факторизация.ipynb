{
 "cells": [
  {
   "cell_type": "code",
   "execution_count": 11,
   "metadata": {},
   "outputs": [
    {
     "name": "stdout",
     "output_type": "stream",
     "text": [
      "7 4951 23143\n"
     ]
    }
   ],
   "source": [
    "number = int(input())\n",
    "\n",
    "\n",
    "def multiply_number(number):\n",
    "    result = ''\n",
    "    multiplier = 2\n",
    "    while number > 1:\n",
    "        if number % multiplier == 0:\n",
    "            number = number / multiplier\n",
    "            result += str(multiplier) + ' '\n",
    "        else:\n",
    "            if multiplier > 100000:\n",
    "                multiplier = int(number)\n",
    "            else:\n",
    "                multiplier += 1\n",
    "\n",
    "    return result.rstrip()\n",
    "\n",
    "\n",
    "print(multiply_number(number))\n",
    "    "
   ]
  },
  {
   "cell_type": "code",
   "execution_count": 6,
   "metadata": {},
   "outputs": [
    {
     "ename": "ValueError",
     "evalue": "invalid literal for int() with base 10: ''",
     "output_type": "error",
     "traceback": [
      "\u001b[1;31m---------------------------------------------------------------------------\u001b[0m",
      "\u001b[1;31mValueError\u001b[0m                                Traceback (most recent call last)",
      "\u001b[1;32mc:\\Users\\Alti\\Desktop\\Dev\\A_ЯПрактикум\\11 спринт\\теория\\Теория_Задачки_J_Факторизация.ipynb Ячейка 2\u001b[0m in \u001b[0;36m1\n\u001b[1;32m----> <a href='vscode-notebook-cell:/c%3A/Users/Alti/Desktop/Dev/A_%D0%AF%D0%9F%D1%80%D0%B0%D0%BA%D1%82%D0%B8%D0%BA%D1%83%D0%BC/11%20%D1%81%D0%BF%D1%80%D0%B8%D0%BD%D1%82/%D1%82%D0%B5%D0%BE%D1%80%D0%B8%D1%8F/%D0%A2%D0%B5%D0%BE%D1%80%D0%B8%D1%8F_%D0%97%D0%B0%D0%B4%D0%B0%D1%87%D0%BA%D0%B8_J_%D0%A4%D0%B0%D0%BA%D1%82%D0%BE%D1%80%D0%B8%D0%B7%D0%B0%D1%86%D0%B8%D1%8F.ipynb#W1sZmlsZQ%3D%3D?line=0'>1</a>\u001b[0m number \u001b[39m=\u001b[39m \u001b[39mint\u001b[39;49m(\u001b[39minput\u001b[39;49m())\n\u001b[0;32m      <a href='vscode-notebook-cell:/c%3A/Users/Alti/Desktop/Dev/A_%D0%AF%D0%9F%D1%80%D0%B0%D0%BA%D1%82%D0%B8%D0%BA%D1%83%D0%BC/11%20%D1%81%D0%BF%D1%80%D0%B8%D0%BD%D1%82/%D1%82%D0%B5%D0%BE%D1%80%D0%B8%D1%8F/%D0%A2%D0%B5%D0%BE%D1%80%D0%B8%D1%8F_%D0%97%D0%B0%D0%B4%D0%B0%D1%87%D0%BA%D0%B8_J_%D0%A4%D0%B0%D0%BA%D1%82%D0%BE%D1%80%D0%B8%D0%B7%D0%B0%D1%86%D0%B8%D1%8F.ipynb#W1sZmlsZQ%3D%3D?line=2'>3</a>\u001b[0m \u001b[39mdef\u001b[39;00m \u001b[39mmultiply_number\u001b[39m(number):\n\u001b[0;32m      <a href='vscode-notebook-cell:/c%3A/Users/Alti/Desktop/Dev/A_%D0%AF%D0%9F%D1%80%D0%B0%D0%BA%D1%82%D0%B8%D0%BA%D1%83%D0%BC/11%20%D1%81%D0%BF%D1%80%D0%B8%D0%BD%D1%82/%D1%82%D0%B5%D0%BE%D1%80%D0%B8%D1%8F/%D0%A2%D0%B5%D0%BE%D1%80%D0%B8%D1%8F_%D0%97%D0%B0%D0%B4%D0%B0%D1%87%D0%BA%D0%B8_J_%D0%A4%D0%B0%D0%BA%D1%82%D0%BE%D1%80%D0%B8%D0%B7%D0%B0%D1%86%D0%B8%D1%8F.ipynb#W1sZmlsZQ%3D%3D?line=3'>4</a>\u001b[0m     result \u001b[39m=\u001b[39m []\n",
      "\u001b[1;31mValueError\u001b[0m: invalid literal for int() with base 10: ''"
     ]
    }
   ],
   "source": [
    "number = int(input())\n",
    "\n",
    "def multiply_number(number):\n",
    "    result = []\n",
    "    multiplier = 2\n",
    "    while number == 0:\n",
    "        if number % multiplier != 0:\n",
    "            multiplier + 1\n",
    "        if number % multiplier == 0:\n",
    "            number = number / 2\n",
    "            result.append(multiplier)\n",
    "\n",
    "    return result\n",
    "print(multiply_number(number))"
   ]
  },
  {
   "cell_type": "code",
   "execution_count": 7,
   "metadata": {},
   "outputs": [
    {
     "name": "stdout",
     "output_type": "stream",
     "text": [
      "30290.6186632099\n"
     ]
    }
   ],
   "source": [
    "import math\n",
    "\n",
    "print(math.sqrt(917521579))"
   ]
  }
 ],
 "metadata": {
  "kernelspec": {
   "display_name": "Python 3",
   "language": "python",
   "name": "python3"
  },
  "language_info": {
   "codemirror_mode": {
    "name": "ipython",
    "version": 3
   },
   "file_extension": ".py",
   "mimetype": "text/x-python",
   "name": "python",
   "nbconvert_exporter": "python",
   "pygments_lexer": "ipython3",
   "version": "3.10.7"
  },
  "orig_nbformat": 4
 },
 "nbformat": 4,
 "nbformat_minor": 2
}
