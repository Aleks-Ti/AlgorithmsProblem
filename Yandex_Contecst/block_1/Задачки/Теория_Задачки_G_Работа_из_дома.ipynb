{
 "cells": [
  {
   "cell_type": "code",
   "execution_count": 21,
   "metadata": {},
   "outputs": [
    {
     "name": "stdout",
     "output_type": "stream",
     "text": [
      "0\n"
     ]
    }
   ],
   "source": [
    "number = int(input())\n",
    "\n",
    "\n",
    "def convert_binary(num: int):\n",
    "    result = []\n",
    "    num = num\n",
    "    if num == 0:\n",
    "        return 0\n",
    "    while num >= 1:\n",
    "        if num % 2 != 0:\n",
    "            result.append('1')\n",
    "            num = num // 2\n",
    "        if num % 2 == 0:\n",
    "            result.append('0')\n",
    "            num = num // 2\n",
    "\n",
    "    result = ''.join((result[::-1]))\n",
    "    if result[0] == '0':\n",
    "        return result\n",
    "    return result\n",
    "\n",
    "\n",
    "print(convert_binary(number))"
   ]
  },
  {
   "cell_type": "code",
   "execution_count": 3,
   "metadata": {},
   "outputs": [
    {
     "data": {
      "text/plain": [
       "1"
      ]
     },
     "execution_count": 3,
     "metadata": {},
     "output_type": "execute_result"
    }
   ],
   "source": [
    "3 // 2"
   ]
  }
 ],
 "metadata": {
  "kernelspec": {
   "display_name": "Python 3",
   "language": "python",
   "name": "python3"
  },
  "language_info": {
   "codemirror_mode": {
    "name": "ipython",
    "version": 3
   },
   "file_extension": ".py",
   "mimetype": "text/x-python",
   "name": "python",
   "nbconvert_exporter": "python",
   "pygments_lexer": "ipython3",
   "version": "3.10.7"
  },
  "orig_nbformat": 4
 },
 "nbformat": 4,
 "nbformat_minor": 2
}
