{
 "cells": [
  {
   "cell_type": "code",
   "execution_count": 2,
   "metadata": {},
   "outputs": [
    {
     "data": {
      "text/plain": [
       "[False, False, 2, 3, False, 5, False, 7, False, False]"
      ]
     },
     "execution_count": 2,
     "metadata": {},
     "output_type": "execute_result"
    }
   ],
   "source": [
    "def eratosthenes(n):\n",
    "    numbers = list(range(n + 1))\n",
    "    numbers[0] = numbers[1] = False\n",
    "    for num in range(2, n):\n",
    "        if numbers[num]:\n",
    "            for j in range(2 * num, n + 1, num):\n",
    "                numbers[j] = False\n",
    "    return numbers\n",
    "\n",
    "eratosthenes(9)"
   ]
  },
  {
   "cell_type": "code",
   "execution_count": 4,
   "metadata": {},
   "outputs": [
    {
     "data": {
      "text/plain": [
       "[False, False, 2, 3, False, 5, False, 7, False, False]"
      ]
     },
     "execution_count": 4,
     "metadata": {},
     "output_type": "execute_result"
    }
   ],
   "source": [
    "def eratosthenes_effective(n):\n",
    "    numbers = list(range(n + 1))\n",
    "    numbers[0] = numbers[1] = False\n",
    "    for num in range(2, n):\n",
    "        if numbers[num]:\n",
    "            for j in range(num * num, n + 1, num):\n",
    "                numbers[j] = False\n",
    "    return numbers\n",
    "\n",
    "eratosthenes(9)"
   ]
  },
  {
   "cell_type": "code",
   "execution_count": 6,
   "metadata": {},
   "outputs": [
    {
     "name": "stdout",
     "output_type": "stream",
     "text": [
      "([2, 3, 5, 7], [0, 0, 2, 3, 2, 5, 2, 7, 2])\n"
     ]
    }
   ],
   "source": [
    "def get_least_primes_linear(n):\n",
    "    lp = [0] * (n + 1)\n",
    "    primes = []\n",
    "    for i in range(2, n + 1):\n",
    "        if lp[i] == 0:\n",
    "            lp[i] = i\n",
    "            primes.append(i)\n",
    "        for p in primes:\n",
    "            x = p * i\n",
    "            if (p > lp[i]) or (x > n):\n",
    "                break\n",
    "            lp[x] = p\n",
    "    return primes, lp\n",
    "\n",
    "print(get_least_primes_linear(8))"
   ]
  },
  {
   "cell_type": "code",
   "execution_count": null,
   "metadata": {},
   "outputs": [],
   "source": []
  }
 ],
 "metadata": {
  "kernelspec": {
   "display_name": "Python 3",
   "language": "python",
   "name": "python3"
  },
  "language_info": {
   "codemirror_mode": {
    "name": "ipython",
    "version": 3
   },
   "file_extension": ".py",
   "mimetype": "text/x-python",
   "name": "python",
   "nbconvert_exporter": "python",
   "pygments_lexer": "ipython3",
   "version": "3.10.7"
  },
  "orig_nbformat": 4
 },
 "nbformat": 4,
 "nbformat_minor": 2
}
