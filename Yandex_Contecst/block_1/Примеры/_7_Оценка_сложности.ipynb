{
 "cells": [
  {
   "cell_type": "code",
   "execution_count": 2,
   "metadata": {},
   "outputs": [
    {
     "name": "stdout",
     "output_type": "stream",
     "text": [
      "2\n"
     ]
    }
   ],
   "source": [
    "# visitors - массив номеров пассажиров.\n",
    "# Каждый пассажир проехал столько раз, сколько раз встречается его номер\n",
    "visitors = [0,2,3,2,0,4,1,1,2]\n",
    "entries_by_visitor = [0] * 5\n",
    "best_visitor = 0\n",
    "\n",
    "for visitor in visitors:\n",
    "    entries_by_visitor[visitor] += 1\n",
    "    if entries_by_visitor[visitor] > entries_by_visitor[best_visitor]:\n",
    "        best_visitor = visitor\n",
    "\n",
    "print(best_visitor)\n",
    "# O(n)"
   ]
  },
  {
   "cell_type": "code",
   "execution_count": 4,
   "metadata": {},
   "outputs": [
    {
     "name": "stdout",
     "output_type": "stream",
     "text": [
      "52.55323028564453 seconds\n"
     ]
    }
   ],
   "source": [
    "import time\n",
    "\n",
    "time_start = time.time()\n",
    "i = 0\n",
    "while i < 1000000000:\n",
    "    # Do nothing\n",
    "    i += 1\n",
    "\n",
    "time_finish = time.time()\n",
    "time_span = time_finish - time_start\n",
    "print(time_span, 'seconds')"
   ]
  }
 ],
 "metadata": {
  "kernelspec": {
   "display_name": "Python 3",
   "language": "python",
   "name": "python3"
  },
  "language_info": {
   "codemirror_mode": {
    "name": "ipython",
    "version": 3
   },
   "file_extension": ".py",
   "mimetype": "text/x-python",
   "name": "python",
   "nbconvert_exporter": "python",
   "pygments_lexer": "ipython3",
   "version": "3.10.7"
  },
  "orig_nbformat": 4
 },
 "nbformat": 4,
 "nbformat_minor": 2
}
