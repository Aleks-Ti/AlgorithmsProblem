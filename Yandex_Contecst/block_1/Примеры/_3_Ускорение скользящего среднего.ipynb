{
 "cells": [
  {
   "cell_type": "code",
   "execution_count": 1,
   "metadata": {},
   "outputs": [],
   "source": [
    "def moving_average(timeseries, K):\n",
    "    result = []\n",
    "    for begin_index in range(0, len(timeseries) - K + 1):\n",
    "        end_index = begin_index + K\n",
    "        # Просматриваем окно шириной K.\n",
    "        current_sum = 0\n",
    "        for v in timeseries[begin_index:end_index]:\n",
    "            current_sum += v\n",
    "        current_avg = current_sum / K\n",
    "        result.append(current_avg)\n",
    "    return result "
   ]
  },
  {
   "cell_type": "code",
   "execution_count": null,
   "metadata": {},
   "outputs": [],
   "source": [
    "def moving_average(timeseries, K):\n",
    "    result = []  # Пустой массив.\n",
    "    # Первый раз вычисляем значение честно и сохраняем результат.\n",
    "    current_sum = sum(timeseries[0:K])\n",
    "    result.append(current_sum / K)\n",
    "    for i in range(0, len(timeseries) - K + 1):\n",
    "        current_sum -= timeseries[i]\n",
    "        current_sum += timeseries[i+K]\n",
    "        current_avg = current_sum / K\n",
    "        result.append(current_avg)\n",
    "    return result"
   ]
  }
 ],
 "metadata": {
  "kernelspec": {
   "display_name": "Python 3",
   "language": "python",
   "name": "python3"
  },
  "language_info": {
   "codemirror_mode": {
    "name": "ipython",
    "version": 3
   },
   "file_extension": ".py",
   "mimetype": "text/x-python",
   "name": "python",
   "nbconvert_exporter": "python",
   "pygments_lexer": "ipython3",
   "version": "3.10.7"
  },
  "orig_nbformat": 4
 },
 "nbformat": 4,
 "nbformat_minor": 2
}
