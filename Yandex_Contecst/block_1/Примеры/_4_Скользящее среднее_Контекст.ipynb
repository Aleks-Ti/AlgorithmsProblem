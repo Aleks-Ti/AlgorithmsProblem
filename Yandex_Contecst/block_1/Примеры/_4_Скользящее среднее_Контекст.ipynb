{
 "cells": [
  {
   "cell_type": "code",
   "execution_count": 7,
   "metadata": {},
   "outputs": [
    {
     "name": "stdout",
     "output_type": "stream",
     "text": [
      "2.5 3.5 4.5 5.5\n"
     ]
    }
   ],
   "source": [
    "n_second = int(input())\n",
    "arr = list(map(int, input().split()))\n",
    "k_step = int(input())\n",
    "\n",
    "result = []\n",
    "current_sum = sum(arr[0:k_step])\n",
    "result.append(current_sum / k_step)\n",
    "for i in range(0, n_second - k_step):\n",
    "    current_sum -= arr[i]\n",
    "    current_sum += arr[i + k_step]\n",
    "    current_avg = current_sum / k_step\n",
    "    result.append(current_avg)\n",
    "\n",
    "print(' '.join([str(x) for x in result]))\n"
   ]
  },
  {
   "cell_type": "code",
   "execution_count": null,
   "metadata": {},
   "outputs": [],
   "source": []
  }
 ],
 "metadata": {
  "kernelspec": {
   "display_name": "Python 3",
   "language": "python",
   "name": "python3"
  },
  "language_info": {
   "codemirror_mode": {
    "name": "ipython",
    "version": 3
   },
   "file_extension": ".py",
   "mimetype": "text/x-python",
   "name": "python",
   "nbconvert_exporter": "python",
   "pygments_lexer": "ipython3",
   "version": "3.10.7"
  },
  "orig_nbformat": 4
 },
 "nbformat": 4,
 "nbformat_minor": 2
}
