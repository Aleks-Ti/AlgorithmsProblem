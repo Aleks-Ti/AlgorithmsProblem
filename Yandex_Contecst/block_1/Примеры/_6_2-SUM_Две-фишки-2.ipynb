{
 "cells": [
  {
   "cell_type": "code",
   "execution_count": 3,
   "metadata": {},
   "outputs": [
    {
     "name": "stdout",
     "output_type": "stream",
     "text": [
      "-1 3\n"
     ]
    }
   ],
   "source": [
    "count_chips = int(input())\n",
    "arr_chips = list(map(int, input().split()))\n",
    "puzzled_number = int(input())\n",
    "\n",
    "def twosum_2_sort(count_arr , numbers, X):\n",
    "    numbers.sort()\n",
    "\n",
    "    left = 0\n",
    "    right = count_arr - 1\n",
    "    while left < right:\n",
    "        current_sum = numbers[left] + numbers[right]\n",
    "        if current_sum == X:\n",
    "            return ' '.join([str(numbers[left]), str(numbers[right])])\n",
    "        if current_sum < X:\n",
    "            left += 1\n",
    "        else:\n",
    "            right -= 1\n",
    "\n",
    "    return None\n",
    "\n",
    "print(twosum_2_sort(count_chips, arr_chips, puzzled_number))\n"
   ]
  }
 ],
 "metadata": {
  "kernelspec": {
   "display_name": "Python 3",
   "language": "python",
   "name": "python3"
  },
  "language_info": {
   "codemirror_mode": {
    "name": "ipython",
    "version": 3
   },
   "file_extension": ".py",
   "mimetype": "text/x-python",
   "name": "python",
   "nbconvert_exporter": "python",
   "pygments_lexer": "ipython3",
   "version": "3.10.7"
  },
  "orig_nbformat": 4
 },
 "nbformat": 4,
 "nbformat_minor": 2
}
