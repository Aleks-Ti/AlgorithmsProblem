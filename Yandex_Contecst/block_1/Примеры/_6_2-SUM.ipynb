{
 "cells": [
  {
   "cell_type": "code",
   "execution_count": null,
   "metadata": {},
   "outputs": [],
   "source": [
    "def twosum_with_sort(numbers, X):\n",
    "    # Сортируем исходный массив стандартной функцией.\n",
    "    numbers.sort()\n",
    "\n",
    "    left = 0\n",
    "    right = len(numbers) - 1\n",
    "    while left < right:\n",
    "        current_sum = numbers[left] + numbers[right]\n",
    "        if current_sum == X:\n",
    "            return numbers[left], numbers[right]\n",
    "        if current_sum < X:\n",
    "            left += 1\n",
    "        else:\n",
    "            right -= 1\n",
    "    # Если ничего не нашлось в цикле, значит, нужной пары элементов в массиве нет.\n",
    "    return None, None "
   ]
  }
 ],
 "metadata": {
  "kernelspec": {
   "display_name": "Python 3",
   "language": "python",
   "name": "python3"
  },
  "language_info": {
   "codemirror_mode": {
    "name": "ipython",
    "version": 3
   },
   "file_extension": ".py",
   "mimetype": "text/x-python",
   "name": "python",
   "nbconvert_exporter": "python",
   "pygments_lexer": "ipython3",
   "version": "3.10.7"
  },
  "orig_nbformat": 4
 },
 "nbformat": 4,
 "nbformat_minor": 2
}
