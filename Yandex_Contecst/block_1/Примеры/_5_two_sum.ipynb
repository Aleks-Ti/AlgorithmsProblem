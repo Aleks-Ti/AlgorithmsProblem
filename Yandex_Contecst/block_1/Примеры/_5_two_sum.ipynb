{
 "cells": [
  {
   "cell_type": "code",
   "execution_count": 1,
   "metadata": {},
   "outputs": [
    {
     "name": "stdout",
     "output_type": "stream",
     "text": [
      "(1, 3)\n"
     ]
    }
   ],
   "source": [
    "def twosum(numbers, X):\n",
    "    for i in range(0, len(numbers)):\n",
    "        for j in range(i + 1, len(numbers)):\n",
    "            if numbers[i] + numbers[j] == X:\n",
    "                return numbers[i], numbers[j]\n",
    "    # По условию задачи пара обязательно должна найтись.\n",
    "    # Но предусмотрительность не помешает:\n",
    "    # если пара не найдена - вернём None, None (или можно выкинуть exception). \n",
    "    return None, None\n",
    "\n",
    "print(twosum([2, 1, 3, 5, 5], 4))"
   ]
  }
 ],
 "metadata": {
  "kernelspec": {
   "display_name": "Python 3",
   "language": "python",
   "name": "python3"
  },
  "language_info": {
   "codemirror_mode": {
    "name": "ipython",
    "version": 3
   },
   "file_extension": ".py",
   "mimetype": "text/x-python",
   "name": "python",
   "nbconvert_exporter": "python",
   "pygments_lexer": "ipython3",
   "version": "3.10.7"
  },
  "orig_nbformat": 4
 },
 "nbformat": 4,
 "nbformat_minor": 2
}
