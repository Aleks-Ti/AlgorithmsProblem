{
 "cells": [
  {
   "cell_type": "code",
   "execution_count": 3,
   "metadata": {},
   "outputs": [
    {
     "name": "stdout",
     "output_type": "stream",
     "text": [
      "4\n"
     ]
    }
   ],
   "source": [
    "# cчитать два числа, которые в stdin записаны через пробел в одной строке, можно так:\n",
    "a, b = map(int, input().split())\n",
    "print(a + b)"
   ]
  },
  {
   "cell_type": "code",
   "execution_count": 6,
   "metadata": {},
   "outputs": [
    {
     "name": "stdout",
     "output_type": "stream",
     "text": [
      "10 8 5 4 2\n"
     ]
    }
   ],
   "source": [
    "# В задачах достаточно часто требуется считать из потока ввода коллекцию чисел, а потом обработать его.\n",
    "# Как правило, во входных данных коллекции задаются в таком виде: на первой строке указывается длина коллекции, на второй — элементы коллекции перечисляются через пробел.\n",
    "# Пример ввода: 5\n",
    "#               10 8 6 4 2 \n",
    "n = int(input())                       # Считывание первой строки ввода\n",
    "arr = list(map(int, input().split()))  # Считывание второй строки ввода\n",
    "\n",
    "print(\" \".join(list(map(str, arr))))"
   ]
  },
  {
   "cell_type": "code",
   "execution_count": 8,
   "metadata": {},
   "outputs": [
    {
     "name": "stdout",
     "output_type": "stream",
     "text": [
      "Печатаем объект map: <map object at 0x000001E97D11D2A0>\n",
      "Преобразовали map в list: [2, 4, 6, 256]\n"
     ]
    }
   ],
   "source": [
    "numbers = [1, 2, 3, 128]\n",
    "def double(num):\n",
    "    return num * 2\n",
    "\n",
    "new_map = map(double, numbers)\n",
    "# Объект map - это итератор, он не хранит значения, а вычисляет их, \n",
    "# когда к ним обращаются явным образом (так же, как, например, объект range)\n",
    "print('Печатаем объект map:', new_map)\n",
    "\n",
    "# Преобразуем map в list и напечатаем\n",
    "print('Преобразовали map в list:', list(new_map))"
   ]
  },
  {
   "cell_type": "code",
   "execution_count": 9,
   "metadata": {},
   "outputs": [],
   "source": [
    "# Задачу, которую решает функция map(), можно было бы решить с помощью цикла, но код будет неудобным и громоздким, да и выполняться он будет дольше.\n",
    "numbers = [1, 2, 3, 128]\n",
    "def double(num):\n",
    "    return num * 2\n",
    "\n",
    "result = []\n",
    "for i in numbers:\n",
    "    result.append(double(i))"
   ]
  },
  {
   "cell_type": "code",
   "execution_count": null,
   "metadata": {},
   "outputs": [],
   "source": []
  }
 ],
 "metadata": {
  "kernelspec": {
   "display_name": "Python 3",
   "language": "python",
   "name": "python3"
  },
  "language_info": {
   "codemirror_mode": {
    "name": "ipython",
    "version": 3
   },
   "file_extension": ".py",
   "mimetype": "text/x-python",
   "name": "python",
   "nbconvert_exporter": "python",
   "pygments_lexer": "ipython3",
   "version": "3.10.7"
  },
  "orig_nbformat": 4
 },
 "nbformat": 4,
 "nbformat_minor": 2
}
