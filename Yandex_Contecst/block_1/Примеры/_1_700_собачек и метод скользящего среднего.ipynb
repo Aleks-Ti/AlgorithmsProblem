{
 "cells": [
  {
   "cell_type": "code",
   "execution_count": null,
   "metadata": {},
   "outputs": [],
   "source": [
    "# Например, если данные по нагрузке на сайт для 7 секунд будут такие: \n",
    "[4,3,8,1,5,6,3]\n",
    "# а K = 3\n",
    "K=3, # то сглаженные значения получатся следующими: \n",
    "[5,4,4.67,4,4.67]"
   ]
  },
  {
   "cell_type": "code",
   "execution_count": null,
   "metadata": {},
   "outputs": [],
   "source": [
    "# Напишем самый простой псевдокод функции, реализующей метод скользящего среднего.\n",
    "#  Самое очевидное и простое решение какой-либо задачи называется «наивный алгоритм» — это устоявшийся термин.\n",
    "# На вход функция будет принимать список с данными timeseries и размер окна сглаживания K.\n",
    "def moving_average(timeseries, K):\n",
    "    result = []  # Пустой список.\n",
    "    for begin_index in range(0, len(timeseries) - K + 1):\n",
    "        end_index = begin_index + K\n",
    "        # Просматриваем окно шириной K.\n",
    "        current_sum = 0\n",
    "        for v in timeseries[begin_index:end_index]:\n",
    "            current_sum += v\n",
    "        current_avg = current_sum / K\n",
    "        result.append(current_avg)\n",
    "    return result "
   ]
  },
  {
   "cell_type": "code",
   "execution_count": null,
   "metadata": {},
   "outputs": [],
   "source": [
    "def moving_average(timeseries, K):\n",
    "    result = []  # Пустой список.\n",
    "    for begin_index in range(0, len(timeseries) - K + 1):\n",
    "        end_index = begin_index + K\n",
    "        # Просматриваем окно шириной K.\n",
    "        current_sum = 0\n",
    "        for v in timeseries[begin_index:end_index]:\n",
    "            current_sum += v\n",
    "        current_avg = current_sum / K\n",
    "        result.append(current_avg)\n",
    "    return result"
   ]
  }
 ],
 "metadata": {
  "kernelspec": {
   "display_name": "Python 3",
   "language": "python",
   "name": "python3"
  },
  "language_info": {
   "codemirror_mode": {
    "name": "ipython",
    "version": 3
   },
   "file_extension": ".py",
   "mimetype": "text/x-python",
   "name": "python",
   "nbconvert_exporter": "python",
   "pygments_lexer": "ipython3",
   "version": "3.10.7"
  },
  "orig_nbformat": 4
 },
 "nbformat": 4,
 "nbformat_minor": 2
}
