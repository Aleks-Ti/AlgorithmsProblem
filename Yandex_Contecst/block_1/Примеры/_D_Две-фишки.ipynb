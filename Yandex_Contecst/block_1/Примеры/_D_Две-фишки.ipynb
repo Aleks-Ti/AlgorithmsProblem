{
 "cells": [
  {
   "cell_type": "code",
   "execution_count": null,
   "metadata": {},
   "outputs": [],
   "source": [
    "count_chips = int(input())\n",
    "arr_chips = list(map(int, input().split()))\n",
    "puzzled_number = int(input())\n",
    "\n",
    "\n",
    "def culk_two_sum(count_chips, arr_chips, puzzled_number):\n",
    "    for i in range(count_chips - 1):\n",
    "        for j in range(1, count_chips - 1):\n",
    "            if (x := arr_chips[i]) + (y := arr_chips[j]) == puzzled_number:\n",
    "                result = [x, y]\n",
    "                return (print(' '.join([str(x) for x in result])))\n",
    "\n",
    "    return (print(None))\n",
    "\n",
    "\n",
    "print(culk_two_sum(count_chips, arr_chips, puzzled_number))\n"
   ]
  },
  {
   "cell_type": "code",
   "execution_count": 40,
   "metadata": {},
   "outputs": [
    {
     "name": "stdout",
     "output_type": "stream",
     "text": [
      "None\n"
     ]
    }
   ],
   "source": [
    "count_chips = int(input())\n",
    "arr_chips = list(map(int, input().split()))\n",
    "puzzled_number = int(input())\n",
    "\n",
    "\n",
    "def culk_two_sum(count_chips, arr_chips, puzzled_number):\n",
    "    for i in range(count_chips - 1):\n",
    "        for j in range(1, count_chips):\n",
    "            if arr_chips[i] != arr_chips[j] and arr_chips[i] + arr_chips[j] == puzzled_number:\n",
    "                # if arr_chips[i] + arr_chips[j] == puzzled_number:\n",
    "                return ' '.join([str(arr_chips[i]), str(arr_chips[j])])\n",
    "                    # return (' '.join([str(x) for x in [arr_chips[i], arr_chips[j]]]))\n",
    "    return None\n",
    "\n",
    "\n",
    "print(culk_two_sum(count_chips, arr_chips, puzzled_number))"
   ]
  },
  {
   "cell_type": "code",
   "execution_count": 50,
   "metadata": {},
   "outputs": [
    {
     "name": "stdout",
     "output_type": "stream",
     "text": [
      "-56 -32\n"
     ]
    }
   ],
   "source": [
    "count_chips = int(input())\n",
    "arr_chips = list(map(int, input().split()))\n",
    "puzzled_number = int(input())\n",
    "\n",
    "\n",
    "def culk_two_sum(count_chips, arr_chips, puzzled_number):\n",
    "    for i in range(count_chips - 1):\n",
    "        for j in range(i + 1, count_chips):\n",
    "            if arr_chips[i] + arr_chips[j] == puzzled_number:\n",
    "                return ' '.join([str(arr_chips[i]), str(arr_chips[j])])\n",
    "    return None\n",
    "\n",
    "\n",
    "print(culk_two_sum(count_chips, arr_chips, puzzled_number))\n"
   ]
  }
 ],
 "metadata": {
  "kernelspec": {
   "display_name": "Python 3",
   "language": "python",
   "name": "python3"
  },
  "language_info": {
   "codemirror_mode": {
    "name": "ipython",
    "version": 3
   },
   "file_extension": ".py",
   "mimetype": "text/x-python",
   "name": "python",
   "nbconvert_exporter": "python",
   "pygments_lexer": "ipython3",
   "version": "3.10.7"
  },
  "orig_nbformat": 4
 },
 "nbformat": 4,
 "nbformat_minor": 2
}
