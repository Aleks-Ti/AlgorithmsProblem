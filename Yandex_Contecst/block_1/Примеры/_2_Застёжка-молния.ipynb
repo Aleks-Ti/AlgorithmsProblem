{
 "cells": [
  {
   "cell_type": "code",
   "execution_count": null,
   "metadata": {},
   "outputs": [],
   "source": [
    "length_arr = int(input())\n",
    "arr1 = list(map(str, input().split()))\n",
    "arr2 = list(map(str, input().split()))\n",
    "\n",
    "result = []\n",
    "for count in range(length_arr):\n",
    "    result.append(arr1[count])\n",
    "    result.append(arr2[count])\n",
    "print(' '.join(result))\n"
   ]
  },
  {
   "cell_type": "code",
   "execution_count": null,
   "metadata": {},
   "outputs": [],
   "source": [
    "length_arr = int(input())\n",
    "arr1 = list(map(str, input().split()))\n",
    "arr2 = list(map(str, input().split()))\n",
    "\n",
    "result = []\n",
    "for count in range(length_arr):\n",
    "    result.append(arr1[count])\n",
    "    result.append(arr2[count])\n",
    "print(' '.join(result))"
   ]
  }
 ],
 "metadata": {
  "kernelspec": {
   "display_name": "Python 3",
   "language": "python",
   "name": "python3"
  },
  "language_info": {
   "codemirror_mode": {
    "name": "ipython",
    "version": 3
   },
   "file_extension": ".py",
   "mimetype": "text/x-python",
   "name": "python",
   "nbconvert_exporter": "python",
   "pygments_lexer": "ipython3",
   "version": "3.10.7"
  },
  "orig_nbformat": 4
 },
 "nbformat": 4,
 "nbformat_minor": 2
}
