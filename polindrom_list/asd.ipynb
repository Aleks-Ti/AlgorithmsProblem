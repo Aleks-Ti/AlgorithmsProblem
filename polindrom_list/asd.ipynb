{
 "cells": [
  {
   "cell_type": "code",
   "execution_count": null,
   "metadata": {},
   "outputs": [
    {
     "name": "stdout",
     "output_type": "stream",
     "text": [
      "True\n"
     ]
    },
    {
     "ename": "IndexError",
     "evalue": "list index out of range",
     "output_type": "error",
     "traceback": [
      "\u001b[1;31m---------------------------------------------------------------------------\u001b[0m",
      "\u001b[1;31mIndexError\u001b[0m                                Traceback (most recent call last)",
      "\u001b[1;32mc:\\Users\\Alti\\Desktop\\Dev\\AlgorithmsProblems\\AlgorithmsProblem\\polindrom\\asd.ipynb Ячейка 1\u001b[0m in \u001b[0;36m1\n\u001b[0;32m     <a href='vscode-notebook-cell:/c%3A/Users/Alti/Desktop/Dev/AlgorithmsProblems/AlgorithmsProblem/polindrom/asd.ipynb#W0sZmlsZQ%3D%3D?line=9'>10</a>\u001b[0m     \u001b[39melse\u001b[39;00m:\n\u001b[0;32m     <a href='vscode-notebook-cell:/c%3A/Users/Alti/Desktop/Dev/AlgorithmsProblems/AlgorithmsProblem/polindrom/asd.ipynb#W0sZmlsZQ%3D%3D?line=10'>11</a>\u001b[0m         \u001b[39mprint\u001b[39m(\u001b[39mFalse\u001b[39;00m)\n\u001b[1;32m---> <a href='vscode-notebook-cell:/c%3A/Users/Alti/Desktop/Dev/AlgorithmsProblems/AlgorithmsProblem/polindrom/asd.ipynb#W0sZmlsZQ%3D%3D?line=14'>15</a>\u001b[0m isPalindrome([\u001b[39m1\u001b[39;49m,\u001b[39m2\u001b[39;49m,\u001b[39m2\u001b[39;49m,\u001b[39m1\u001b[39;49m])\n",
      "\u001b[1;32mc:\\Users\\Alti\\Desktop\\Dev\\AlgorithmsProblems\\AlgorithmsProblem\\polindrom\\asd.ipynb Ячейка 1\u001b[0m in \u001b[0;36m8\n\u001b[0;32m      <a href='vscode-notebook-cell:/c%3A/Users/Alti/Desktop/Dev/AlgorithmsProblems/AlgorithmsProblem/polindrom/asd.ipynb#W0sZmlsZQ%3D%3D?line=5'>6</a>\u001b[0m     \u001b[39mfor\u001b[39;00m i \u001b[39min\u001b[39;00m \u001b[39mrange\u001b[39m(\u001b[39mlen\u001b[39m(head)):\n\u001b[0;32m      <a href='vscode-notebook-cell:/c%3A/Users/Alti/Desktop/Dev/AlgorithmsProblems/AlgorithmsProblem/polindrom/asd.ipynb#W0sZmlsZQ%3D%3D?line=6'>7</a>\u001b[0m         \u001b[39mif\u001b[39;00m \u001b[39mstr\u001b[39m(head[i]) \u001b[39m==\u001b[39m \u001b[39mstr\u001b[39m(head)[\u001b[39m-\u001b[39m(j \u001b[39m+\u001b[39m \u001b[39m1\u001b[39m)]:\n\u001b[1;32m----> <a href='vscode-notebook-cell:/c%3A/Users/Alti/Desktop/Dev/AlgorithmsProblems/AlgorithmsProblem/polindrom/asd.ipynb#W0sZmlsZQ%3D%3D?line=7'>8</a>\u001b[0m             \u001b[39mif\u001b[39;00m \u001b[39mstr\u001b[39m(head[i \u001b[39m+\u001b[39;49m \u001b[39m1\u001b[39;49m] \u001b[39m==\u001b[39m \u001b[39mstr\u001b[39m(head[\u001b[39m-\u001b[39m(j \u001b[39m+\u001b[39m \u001b[39m1\u001b[39m)])):\n\u001b[0;32m      <a href='vscode-notebook-cell:/c%3A/Users/Alti/Desktop/Dev/AlgorithmsProblems/AlgorithmsProblem/polindrom/asd.ipynb#W0sZmlsZQ%3D%3D?line=8'>9</a>\u001b[0m                 \u001b[39mprint\u001b[39m(\u001b[39mTrue\u001b[39;00m)\n\u001b[0;32m     <a href='vscode-notebook-cell:/c%3A/Users/Alti/Desktop/Dev/AlgorithmsProblems/AlgorithmsProblem/polindrom/asd.ipynb#W0sZmlsZQ%3D%3D?line=9'>10</a>\u001b[0m \u001b[39melse\u001b[39;00m:\n",
      "\u001b[1;31mIndexError\u001b[0m: list index out of range"
     ]
    }
   ],
   "source": [
    "param_1 = [1, 2, 2, 1]\n",
    "\n",
    "\n",
    "def isPalindrome(head):\n",
    "    for j in range(len(head)):\n",
    "        for i in range(len(head)):\n",
    "            if str(head[i]) == str(head)[-(j + 1)]:\n",
    "                if str(head[i + 1] == str(head[-(j + 1)])):\n",
    "                    print(True)\n",
    "    else:\n",
    "        print(False)\n",
    "\n",
    "\n",
    "\n",
    "isPalindrome([1,2,2,1])\n"
   ]
  },
  {
   "cell_type": "code",
   "execution_count": 3,
   "metadata": {},
   "outputs": [
    {
     "data": {
      "text/plain": [
       "121"
      ]
     },
     "execution_count": 3,
     "metadata": {},
     "output_type": "execute_result"
    }
   ],
   "source": [
    " -121 * -1"
   ]
  }
 ],
 "metadata": {
  "kernelspec": {
   "display_name": "Python 3",
   "language": "python",
   "name": "python3"
  },
  "language_info": {
   "codemirror_mode": {
    "name": "ipython",
    "version": 3
   },
   "file_extension": ".py",
   "mimetype": "text/x-python",
   "name": "python",
   "nbconvert_exporter": "python",
   "pygments_lexer": "ipython3",
   "version": "3.10.7"
  },
  "orig_nbformat": 4
 },
 "nbformat": 4,
 "nbformat_minor": 2
}
